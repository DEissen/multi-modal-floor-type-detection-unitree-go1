{
 "cells": [
  {
   "cell_type": "code",
   "execution_count": 1,
   "metadata": {},
   "outputs": [],
   "source": [
    "import torch\n",
    "import torchvision.transforms as transforms\n",
    "\n",
    "# custom imports\n",
    "from FTDDataset.FTDDataset import FloorTypeDetectionDataset\n",
    "from models.unimodal_models import LeNet_Like, VGG_Like\n",
    "from train import Trainer\n",
    "from eval import evaluate, load_state_dict\n",
    "from visualization.visualization import visualize_data_sample_or_batch\n",
    "from custom_utils.custom_utils import gen_run_dir, start_logger, store_used_config\n",
    "import os"
   ]
  },
  {
   "cell_type": "code",
   "execution_count": 2,
   "metadata": {},
   "outputs": [],
   "source": [
    "# variables for dataset and config to use\n",
    "dataset_path = r\"C:\\Users\\Dominik\\Downloads\\FTDD_0.1\"\n",
    "mapping_filename = \"label_mapping_binary.json\"\n",
    "preprocessing_config_filename = \"preprocessing_config.json\"\n",
    "\n",
    "# list of sensors to use\n",
    "# sensors = ['accelerometer', 'BellyCamLeft', 'BellyCamRight', 'bodyHeight', 'ChinCamLeft', 'ChinCamRight', 'footForce', 'footRaiseHeight', 'gyroscope',\n",
    "#            'HeadCamLeft', 'HeadCamRight', 'LeftCamLeft', 'LeftCamRight', 'mode', 'RightCamLeft', 'RightCamRight', 'temperature', 'velocity', 'yawSpeed']\n",
    "sensors = [\"accelerometer\"]\n",
    "\n",
    "# config for training\n",
    "train_config_dict = {\n",
    "    \"epochs\": 25,\n",
    "    \"batch_size\": 8,\n",
    "    \"lr\": 0.001,\n",
    "    \"momentum\": 0.9,\n",
    "    \"dropout_rate\": 0.2,\n",
    "    \"num_classes\": 2,\n",
    "    \"use_wandb\": True,\n",
    "    \"visualize_results\": True,\n",
    "    \"train_log_interval\": 50,\n",
    "    \"sensors\": sensors,\n",
    "    \"dataset_path\": dataset_path\n",
    "}"
   ]
  },
  {
   "cell_type": "code",
   "execution_count": null,
   "metadata": {},
   "outputs": [],
   "source": [
    "run_paths_dict = gen_run_dir(r\"\")\n",
    "start_logger(run_paths_dict[\"logs_path\"], stream_log=True)"
   ]
  },
  {
   "cell_type": "code",
   "execution_count": null,
   "metadata": {},
   "outputs": [],
   "source": [
    "# create dataset\n",
    "transformed_dataset = FloorTypeDetectionDataset(\n",
    "    dataset_path, sensors, mapping_filename, preprocessing_config_filename)\n",
    "\n",
    "# get all possible config dicts for logging\n",
    "label_mapping_dict = transformed_dataset.get_mapping_dict()\n",
    "preprocessing_config_dict = transformed_dataset.get_preprocessing_config()\n",
    "\n",
    "# split in train and test dataset\n",
    "train_size = int(0.8 * len(transformed_dataset))\n",
    "test_size = len(transformed_dataset) - train_size\n",
    "ds_train, ds_test = torch.utils.data.random_split(\n",
    "    transformed_dataset, [train_size, test_size])"
   ]
  },
  {
   "cell_type": "code",
   "execution_count": null,
   "metadata": {},
   "outputs": [],
   "source": [
    "# define model, loss and optimizer\n",
    "# model = LeNet_Like(train_config_dict[\"num_classes\"])\n",
    "model = VGG_Like(train_config_dict[\"num_classes\"], train_config_dict[\"dropout_rate\"])"
   ]
  },
  {
   "cell_type": "code",
   "execution_count": null,
   "metadata": {},
   "outputs": [],
   "source": [
    "# training loop\n",
    "trainer = Trainer(model, ds_train, ds_test, sensors,\n",
    "                    train_config_dict, run_paths_dict)"
   ]
  },
  {
   "cell_type": "code",
   "execution_count": null,
   "metadata": {},
   "outputs": [],
   "source": [
    "trainer.train()"
   ]
  },
  {
   "cell_type": "code",
   "execution_count": null,
   "metadata": {},
   "outputs": [],
   "source": [
    "# optionally load instead of train the model\n",
    "num = 25\n",
    "load_path = os.path.join(run_paths_dict[\"model_ckpts\"], f\"{model._get_name()}_{num}.pt\")\n",
    "load_state_dict(model, load_path)"
   ]
  },
  {
   "cell_type": "code",
   "execution_count": null,
   "metadata": {},
   "outputs": [],
   "source": [
    "print(model)"
   ]
  },
  {
   "cell_type": "code",
   "execution_count": null,
   "metadata": {},
   "outputs": [],
   "source": [
    "evaluate(model, ds_train, sensors, train_config_dict)"
   ]
  },
  {
   "cell_type": "code",
   "execution_count": null,
   "metadata": {},
   "outputs": [],
   "source": [
    "# store used config as final step of logging\n",
    "store_used_config(run_paths_dict, label_mapping_dict, preprocessing_config_dict, train_config_dict)"
   ]
  }
 ],
 "metadata": {
  "kernelspec": {
   "display_name": "Python 3",
   "language": "python",
   "name": "python3"
  },
  "language_info": {
   "codemirror_mode": {
    "name": "ipython",
    "version": 3
   },
   "file_extension": ".py",
   "mimetype": "text/x-python",
   "name": "python",
   "nbconvert_exporter": "python",
   "pygments_lexer": "ipython3",
   "version": "3.9.7"
  },
  "orig_nbformat": 4
 },
 "nbformat": 4,
 "nbformat_minor": 2
}
