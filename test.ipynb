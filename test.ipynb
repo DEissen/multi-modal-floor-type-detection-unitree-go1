{
 "cells": [
  {
   "cell_type": "code",
   "execution_count": null,
   "metadata": {},
   "outputs": [],
   "source": [
    "import torch\n",
    "import os\n",
    "import glob\n",
    "from random import shuffle, randint\n",
    "import os\n",
    "import datetime\n",
    "import logging\n",
    "import json\n",
    "import numpy as np"
   ]
  },
  {
   "cell_type": "code",
   "execution_count": null,
   "metadata": {},
   "outputs": [],
   "source": [
    "from FTDDataset.FTDDataset import FloorTypeDetectionDataset\n",
    "from models.model_builder import model_builder\n",
    "from trainer import Trainer\n",
    "from evaluation import evaluate, load_state_dict\n",
    "from visualization.visualization import visualize_data_sample_or_batch, visualize_weights_of_dense_layer\n",
    "from custom_utils.utils import gen_run_dir, CustomLogger, store_used_config, load_run_path_config"
   ]
  },
  {
   "cell_type": "code",
   "execution_count": null,
   "metadata": {},
   "outputs": [],
   "source": []
  }
 ],
 "metadata": {
  "kernelspec": {
   "display_name": "Python 3",
   "language": "python",
   "name": "python3"
  },
  "language_info": {
   "codemirror_mode": {
    "name": "ipython",
    "version": 3
   },
   "file_extension": ".py",
   "mimetype": "text/x-python",
   "name": "python",
   "nbconvert_exporter": "python",
   "pygments_lexer": "ipython3",
   "version": "3.9.7"
  }
 },
 "nbformat": 4,
 "nbformat_minor": 2
}
