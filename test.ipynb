{
 "cells": [
  {
   "cell_type": "code",
   "execution_count": null,
   "metadata": {},
   "outputs": [],
   "source": [
    "import torch\n",
    "import torch.nn as nn\n",
    "import os\n",
    "import glob\n",
    "from random import shuffle, randint\n",
    "import os\n",
    "import datetime\n",
    "import logging\n",
    "import json\n",
    "import numpy as np\n",
    "import torch\n",
    "import torch.nn as nn\n",
    "import torch.nn.functional as F\n",
    "\n",
    "import matplotlib.pyplot as plt"
   ]
  },
  {
   "cell_type": "code",
   "execution_count": null,
   "metadata": {},
   "outputs": [],
   "source": [
    "from FTDDataset.FTDDataset import FloorTypeDetectionDataset\n",
    "from models.model_builder import model_builder\n",
    "from trainer import Trainer\n",
    "from evaluation import evaluate, load_state_dict\n",
    "from visualization.visualization import visualize_data_sample_or_batch, visualize_weights_of_dense_layer, visualize_img_as_path_seq\n",
    "from custom_utils.utils import gen_run_dir, CustomLogger, store_used_config, load_run_path_config\n",
    "from torch.utils.data import DataLoader\n",
    "\n",
    "from models.classification_heads import Dense_ClassificationHead\n",
    "from models.fusion_models import Concatenate_FusionModel, CrossModalTransformer_FusionModel\n",
    "from models.modality_nets import LeNet2dLike_ModalityNet, VggLike_ModalityNet, LeNet1dLike_ModalityNet, ImagePatchTokenization_ModalityNet\n",
    "from models.transformers import CrossModalTransformer\n",
    "from models.tokenEmbeddings import create_patch_sequence_for_image, flatten_patches"
   ]
  },
  {
   "cell_type": "code",
   "execution_count": null,
   "metadata": {},
   "outputs": [],
   "source": [
    "sensors = None\n",
    "logger = None\n",
    "run_path = \"\"\n",
    "\n",
    "# ####### load config based on run_path #######\n",
    "train_config_dict = load_run_path_config(run_path)\n",
    "train_dataset_path = train_config_dict[\"train_dataset_path\"]\n",
    "test_dataset_path = train_config_dict[\"test_dataset_path\"]\n",
    "if sensors == None:\n",
    "    # use sensors from default config if no sensors were provided as function parameter\n",
    "    sensors = train_config_dict[\"sensors\"]\n",
    "else:\n",
    "    # otherwise use sensors from function parameter and log them in config dict\n",
    "    train_config_dict[\"sensors\"] = sensors\n",
    "\n",
    "# ####### start of program (only modify code below if you want to change some behavior) #######\n",
    "run_paths_dict = gen_run_dir(run_path)\n",
    "# create new logger object if non was provided\n",
    "# if logger == None:\n",
    "#   logger = CustomLogger()\n",
    "\n",
    "# logger.start_logger(run_paths_dict[\"logs_path\"], stream_log=True)\n",
    "\n",
    "# ####### prepare datasets #######\n",
    "# load datasets\n",
    "ds_train = FloorTypeDetectionDataset(\n",
    "    train_dataset_path, sensors, run_path)\n",
    "ds_test = FloorTypeDetectionDataset(\n",
    "    test_dataset_path, sensors, run_path, create_faulty_data=True)  # only test dataset shall contain faulty data\n",
    "\n",
    "# ####### define model (automatically select uni or multimodal model) #######\n",
    "# model = model_builder(sensors, ds_train, train_config_dict)\n",
    "\n",
    "sample_loader = DataLoader(ds_train, 8, shuffle=True)\n",
    "_, (sample_batch, _) = next(enumerate(sample_loader))"
   ]
  },
  {
   "cell_type": "code",
   "execution_count": null,
   "metadata": {},
   "outputs": [],
   "source": [
    "test_img = sample_batch[sensors[0]][0]\n",
    "\n",
    "\n",
    "normal_img = np.transpose(test_img, (1, 2, 0))\n",
    "plt.imshow(normal_img)\n",
    "\n",
    "zwerg = create_patch_sequence_for_image(test_img, 16)\n",
    "\n",
    "visualize_img_as_path_seq(zwerg)"
   ]
  }
 ],
 "metadata": {
  "kernelspec": {
   "display_name": "Python 3",
   "language": "python",
   "name": "python3"
  },
  "language_info": {
   "codemirror_mode": {
    "name": "ipython",
    "version": 3
   },
   "file_extension": ".py",
   "mimetype": "text/x-python",
   "name": "python",
   "nbconvert_exporter": "python",
   "pygments_lexer": "ipython3",
   "version": "3.9.7"
  }
 },
 "nbformat": 4,
 "nbformat_minor": 2
}
